{
 "cells": [
  {
   "cell_type": "code",
   "execution_count": 8,
   "id": "d363f82d-d7f9-4935-91b4-73bfe9dcbec4",
   "metadata": {},
   "outputs": [
    {
     "name": "stdout",
     "output_type": "stream",
     "text": [
      "Hi Calou Desbois, I'm the script ex014.py.\n",
      "I'd like to ask you a few questions.\n",
      "Do you like me Calou Desbois?\n"
     ]
    },
    {
     "name": "stdin",
     "output_type": "stream",
     "text": [
      "<< no\n"
     ]
    },
    {
     "name": "stdout",
     "output_type": "stream",
     "text": [
      "Where do you live Calou Desbois\n"
     ]
    },
    {
     "name": "stdin",
     "output_type": "stream",
     "text": [
      "<< whereever\n"
     ]
    },
    {
     "name": "stdout",
     "output_type": "stream",
     "text": [
      "What kind of computer do you have?\n"
     ]
    },
    {
     "name": "stdin",
     "output_type": "stream",
     "text": [
      "<< whatever\n"
     ]
    },
    {
     "name": "stdout",
     "output_type": "stream",
     "text": [
      "\n",
      "Alright, so you said no about liking me.\n",
      "You live in whereever. Not sure where that is.\n",
      "And you have a whatever computer. Nice.\n",
      "\n"
     ]
    }
   ],
   "source": [
    "from sys import argv\n",
    "\n",
    "script, user_name = [\"ex014.py\", \"Calou Desbois\"]\n",
    "prompt = '<<'\n",
    "\n",
    "print(f\"Hi {user_name}, I'm the script {script}.\")\n",
    "print(\"I'd like to ask you a few questions.\")\n",
    "print(f\"Do you like me {user_name}?\")\n",
    "likes = input(prompt)\n",
    "\n",
    "print(f\"Where do you live {user_name}\")\n",
    "lives = input(prompt)\n",
    "\n",
    "print(\"What kind of computer do you have?\")\n",
    "computer = input(prompt)\n",
    "\n",
    "print(f'''\n",
    "Alright, so you said {likes} about liking me.\n",
    "You live in {lives}. Not sure where that is.\n",
    "And you have a {computer} computer. Nice.\n",
    "''')"
   ]
  },
  {
   "cell_type": "code",
   "execution_count": null,
   "id": "c0216bb2-7f82-4dd3-b6ae-edc27ce463c9",
   "metadata": {},
   "outputs": [],
   "source": []
  }
 ],
 "metadata": {
  "kernelspec": {
   "display_name": "Python 3 (ipykernel)",
   "language": "python",
   "name": "python3"
  },
  "language_info": {
   "codemirror_mode": {
    "name": "ipython",
    "version": 3
   },
   "file_extension": ".py",
   "mimetype": "text/x-python",
   "name": "python",
   "nbconvert_exporter": "python",
   "pygments_lexer": "ipython3",
   "version": "3.12.3"
  }
 },
 "nbformat": 4,
 "nbformat_minor": 5
}
