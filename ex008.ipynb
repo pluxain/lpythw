{
 "cells": [
  {
   "cell_type": "code",
   "execution_count": 8,
   "id": "4f41aa68-87b1-4c20-8a27-46103334a43c",
   "metadata": {},
   "outputs": [
    {
     "name": "stdout",
     "output_type": "stream",
     "text": [
      "1 2 3 4\n",
      "one two three four\n",
      "True False False True\n",
      "{} {} {} {} {} {} {} {} {} {} {} {} {} {} {} {}\n",
      "Try your Own text here Maybe a poem Or a song about fear\n"
     ]
    }
   ],
   "source": [
    "# create variable with placeholders to format\n",
    "formatter = \"{} {} {} {}\"\n",
    "# print numbers\n",
    "print(formatter.format(1, 2, 3, 4))\n",
    "# print strings\n",
    "print(formatter.format(\"one\", \"two\" , \"three\", \"four\"))\n",
    "# print booleans\n",
    "print(formatter.format(True, False, False, True))\n",
    "# print the formatter -> will be treated as a string\n",
    "print(formatter.format(formatter, formatter, formatter, formatter))\n",
    "# print more string. Interest here is to have arguments on several lines\n",
    "print(formatter.format(\n",
    "    \"Try your\",\n",
    "    \"Own text here\",\n",
    "    \"Maybe a poem\",\n",
    "    \"Or a song about fear\"\n",
    "))\n",
    "    "
   ]
  },
  {
   "cell_type": "code",
   "execution_count": null,
   "id": "ff7b2444-930b-4d11-b649-3ad774af12b1",
   "metadata": {},
   "outputs": [],
   "source": []
  }
 ],
 "metadata": {
  "kernelspec": {
   "display_name": "Python 3 (ipykernel)",
   "language": "python",
   "name": "python3"
  },
  "language_info": {
   "codemirror_mode": {
    "name": "ipython",
    "version": 3
   },
   "file_extension": ".py",
   "mimetype": "text/x-python",
   "name": "python",
   "nbconvert_exporter": "python",
   "pygments_lexer": "ipython3",
   "version": "3.12.3"
  }
 },
 "nbformat": 4,
 "nbformat_minor": 5
}
