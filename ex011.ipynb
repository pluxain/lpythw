{
 "cells": [
  {
   "cell_type": "code",
   "execution_count": 3,
   "id": "2bd58907-32ac-44d1-95b6-29e0a5b7fd38",
   "metadata": {},
   "outputs": [
    {
     "name": "stdout",
     "output_type": "stream",
     "text": [
      "How old are you ? "
     ]
    },
    {
     "name": "stdin",
     "output_type": "stream",
     "text": [
      " 49\n"
     ]
    },
    {
     "name": "stdout",
     "output_type": "stream",
     "text": [
      "How tall are you ? "
     ]
    },
    {
     "name": "stdin",
     "output_type": "stream",
     "text": [
      " 175\n"
     ]
    },
    {
     "name": "stdout",
     "output_type": "stream",
     "text": [
      "How much do you weigh? "
     ]
    },
    {
     "name": "stdin",
     "output_type": "stream",
     "text": [
      " 89\n"
     ]
    },
    {
     "name": "stdout",
     "output_type": "stream",
     "text": [
      "So, you're 49 old, 175 tall and 89 heavy.\n"
     ]
    }
   ],
   "source": [
    "print(\"How old are you ?\", end=' ')\n",
    "age = input()\n",
    "print(\"How tall are you ?\", end=' ')\n",
    "height = input()\n",
    "print(\"How much do you weigh?\", end=' ')\n",
    "weight = input()\n",
    "\n",
    "print(f\"So, you're {age} old, {height} tall and {weight} heavy.\")"
   ]
  },
  {
   "cell_type": "code",
   "execution_count": null,
   "id": "3afa1301-5a25-4ffc-94e1-e39b6980dfcb",
   "metadata": {},
   "outputs": [],
   "source": []
  }
 ],
 "metadata": {
  "kernelspec": {
   "display_name": "Python 3 (ipykernel)",
   "language": "python",
   "name": "python3"
  },
  "language_info": {
   "codemirror_mode": {
    "name": "ipython",
    "version": 3
   },
   "file_extension": ".py",
   "mimetype": "text/x-python",
   "name": "python",
   "nbconvert_exporter": "python",
   "pygments_lexer": "ipython3",
   "version": "3.12.3"
  }
 },
 "nbformat": 4,
 "nbformat_minor": 5
}
