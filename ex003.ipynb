{
 "cells": [
  {
   "cell_type": "code",
   "execution_count": 1,
   "id": "f1fbe46c-39d4-4e51-aaf5-b17e89ac5c59",
   "metadata": {},
   "outputs": [
    {
     "name": "stdout",
     "output_type": "stream",
     "text": [
      "I will now count my chickens:\n",
      "Hens 30.0\n",
      "Roosters 95\n",
      "Now I will count the eggs:\n",
      "6.75\n",
      "Is it true that 3 + 2 < 5 - 7?\n",
      "False\n",
      "What is 3 + 2? 5\n",
      "What is 5 - 7? -2\n",
      "Oh, that's why it is False.\n",
      "How about some more.\n",
      "Is is greater? True\n",
      "Is it greater or equal? True\n",
      "Is it less or equal? False\n"
     ]
    }
   ],
   "source": [
    "# print a sentence\n",
    "print(\"I will now count my chickens:\")\n",
    "\n",
    "# print the result of one operation\n",
    "print(\"Hens\", 25 + 30 / 6)\n",
    "\n",
    "# print the result of another operation\n",
    "print(\"Roosters\", 100 - 25 * 3 % 7)\n",
    "\n",
    "print(\"Now I will count the eggs:\")\n",
    "\n",
    "# print the final result\n",
    "print(3 + 2 + 1 - 5 + 4 % 2 - 1 / 4 + 6)\n",
    "\n",
    "print(\"Is it true that 3 + 2 < 5 - 7?\")\n",
    "# print the result of the comparison after doing operations\n",
    "print(3 + 2 < 5 - 7)\n",
    "\n",
    "\n",
    "print(\"What is 3 + 2?\", 3 + 2)\n",
    "print(\"What is 5 - 7?\", 5 - 7)\n",
    "\n",
    "print(\"Oh, that's why it is False.\")\n",
    "\n",
    "print(\"How about some more.\")\n",
    "print(\"Is is greater?\", 5 > -2)\n",
    "print(\"Is it greater or equal?\", 5 >= -2)\n",
    "print(\"Is it less or equal?\", 5 <= -2)"
   ]
  },
  {
   "cell_type": "code",
   "execution_count": 2,
   "id": "f85cff75-5563-4dde-9449-b79869ffa675",
   "metadata": {},
   "outputs": [
    {
     "data": {
      "text/plain": [
       "3"
      ]
     },
     "execution_count": 2,
     "metadata": {},
     "output_type": "execute_result"
    }
   ],
   "source": [
    "1 + 2"
   ]
  },
  {
   "cell_type": "code",
   "execution_count": 5,
   "id": "79c000dc-b650-4fbe-8e61-edb522561140",
   "metadata": {},
   "outputs": [
    {
     "name": "stdout",
     "output_type": "stream",
     "text": [
      "Using floats\n",
      "I will now count my chickens:\n",
      "Hens 30.0\n",
      "Roosters 95.0\n",
      "Now I will count the eggs:\n",
      "6.75\n",
      "Is it true that 3 + 2 < 5 - 7?\n",
      "False\n",
      "What is 3 + 2? 5.0\n",
      "What is 5 - 7? -2.0\n",
      "Oh, that's why it is False.\n",
      "How about some more.\n",
      "Is is greater? True\n",
      "Is it greater or equal? True\n",
      "Is it less or equal? False\n"
     ]
    }
   ],
   "source": [
    "print(\"Using floats\")\n",
    "print(\"I will now count my chickens:\")\n",
    "\n",
    "print(\"Hens\", 25.0 + 30 / 6)\n",
    "print(\"Roosters\", 100.0 - 25 * 3 % 7)\n",
    "\n",
    "print(\"Now I will count the eggs:\")\n",
    "\n",
    "print(3.0 + 2 + 1 - 5 + 4 % 2 - 1 / 4 + 6)\n",
    "\n",
    "print(\"Is it true that 3 + 2 < 5 - 7?\")\n",
    "print(3.0 + 2 < 5 - 7)\n",
    "\n",
    "print(\"What is 3 + 2?\", 3.0 + 2)\n",
    "print(\"What is 5 - 7?\", 5.0 - 7)\n",
    "\n",
    "print(\"Oh, that's why it is False.\")\n",
    "\n",
    "print(\"How about some more.\")\n",
    "print(\"Is is greater?\", 5.0 > -2)\n",
    "print(\"Is it greater or equal?\", 5.0 >= -2)\n",
    "print(\"Is it less or equal?\", 5.0 <= -2)"
   ]
  },
  {
   "cell_type": "code",
   "execution_count": null,
   "id": "34d73db0-d35f-4e9b-9806-7fcec37537ea",
   "metadata": {},
   "outputs": [],
   "source": []
  }
 ],
 "metadata": {
  "kernelspec": {
   "display_name": "Python 3 (ipykernel)",
   "language": "python",
   "name": "python3"
  },
  "language_info": {
   "codemirror_mode": {
    "name": "ipython",
    "version": 3
   },
   "file_extension": ".py",
   "mimetype": "text/x-python",
   "name": "python",
   "nbconvert_exporter": "python",
   "pygments_lexer": "ipython3",
   "version": "3.12.3"
  }
 },
 "nbformat": 4,
 "nbformat_minor": 5
}
