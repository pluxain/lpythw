{
 "cells": [
  {
   "cell_type": "code",
   "execution_count": 5,
   "id": "89ea27fd-8fae-4b83-8cc6-640016c86d24",
   "metadata": {},
   "outputs": [
    {
     "name": "stdout",
     "output_type": "stream",
     "text": [
      "There are 10 types of people.\n",
      "Those who know binary and those who don't.\n",
      "I said: There are 10 types of people.\n",
      "I also said: 'Those who know binary and those who don't.'\n",
      "Isn't that joke so funny?! False\n",
      "This is the left side of...a string with a right side\n"
     ]
    }
   ],
   "source": [
    "# affect a variable for further use\n",
    "types_of_people = 10\n",
    "\n",
    "# create a variable which contains an f-string\n",
    "x = f\"There are {types_of_people} types of people.\"\n",
    "\n",
    "# more variables\n",
    "binary = \"binary\"\n",
    "do_not = \"don't\"\n",
    "# more f-string variable\n",
    "y = f\"Those who know {binary} and those who {do_not}.\"\n",
    "\n",
    "# print variables\n",
    "print(x)\n",
    "print(y)\n",
    "# print(w) # broken\n",
    "\n",
    "# print f-string with f-string variables in it\n",
    "print(f\"I said: {x}\")\n",
    "# print(\"I said: {x}\") # not working as expected, broken\n",
    "print(f\"I also said: '{y}'\")\n",
    "# print(f\"I also said: '{y)'\") # broken\n",
    "\n",
    "# boolean variable\n",
    "hilarious = False\n",
    "# prepare a string to be formatted\n",
    "joke_evaluation = \"Isn't that joke so funny?! {}\"\n",
    "#joke_evaluation = \"Isn't that joke so funny?! {s}\" # broken\n",
    "\n",
    "# use the format approach of a string\n",
    "print(joke_evaluation.format(hilarious))\n",
    "\n",
    "# prepare variables to be concatenated\n",
    "w = \"This is the left side of...\"\n",
    "e = \"a string with a right side\"\n",
    "\n",
    "# print string concatenated\n",
    "print(w + e)"
   ]
  },
  {
   "cell_type": "code",
   "execution_count": null,
   "id": "9766c2d4-35d2-4f42-8cf8-2aaa4f4c2962",
   "metadata": {},
   "outputs": [],
   "source": []
  },
  {
   "cell_type": "code",
   "execution_count": null,
   "id": "cf825005-38ae-4308-857b-609831900bd6",
   "metadata": {},
   "outputs": [],
   "source": []
  }
 ],
 "metadata": {
  "kernelspec": {
   "display_name": "Python 3 (ipykernel)",
   "language": "python",
   "name": "python3"
  },
  "language_info": {
   "codemirror_mode": {
    "name": "ipython",
    "version": 3
   },
   "file_extension": ".py",
   "mimetype": "text/x-python",
   "name": "python",
   "nbconvert_exporter": "python",
   "pygments_lexer": "ipython3",
   "version": "3.12.3"
  }
 },
 "nbformat": 4,
 "nbformat_minor": 5
}
