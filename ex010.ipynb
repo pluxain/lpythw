{
 "cells": [
  {
   "cell_type": "code",
   "execution_count": 26,
   "id": "1adea395-88a5-4e73-a51f-b2c9bdee1949",
   "metadata": {},
   "outputs": [
    {
     "name": "stdout",
     "output_type": "stream",
     "text": [
      "\t I'm tabbed in.\n",
      "I'm split\n",
      "on a line.\n",
      "I'm \\ a \\ cat.\n",
      "\n",
      "I'll do a list:\n",
      "\t* Cat food\n",
      "\t* Fishies\n",
      "\t* Catnip\n",
      "\t* Grass\n",
      "\n",
      "\\\n",
      "'\n",
      "\"\n",
      "\u0007\n",
      "\b\n",
      "\f",
      "\n",
      "\n",
      "\n",
      "Δ\n",
      "\n",
      "\t\n",
      "߿\n",
      "􏿿\n",
      "\u000b",
      "\n",
      "\u0000\n",
      "ÿ\n",
      "one line\n",
      "second line\n",
      "He said:  \"What are you doing?!\"\n"
     ]
    }
   ],
   "source": [
    "tabby_cat = \"\\t I'm tabbed in.\"\n",
    "persian_cat = \"I'm split\\non a line.\"\n",
    "backslash_cat = \"I'm \\\\ a \\\\ cat.\"\n",
    "\n",
    "fat_cat =  '''\n",
    "I'll do a list:\n",
    "\\t* Cat food\n",
    "\\t* Fishies\n",
    "\\t* Catnip\\n\\t* Grass\n",
    "'''\n",
    "\n",
    "print(tabby_cat)\n",
    "print(persian_cat)\n",
    "print(backslash_cat)\n",
    "print(fat_cat)\n",
    "\n",
    "\n",
    "print(\"\\\\\") # Backslash (\\\\)\n",
    "print(\"\\'\")# Single-quote (')\n",
    "print(\"\\\"\") # Double-quote (\")\n",
    "print(\"\\a\") # ASCII bell (BEL)\n",
    "print(\"\\b\") # ASCII backspace (BS)\n",
    "print(\"\\f\") # ASCII formfeed (FF)\n",
    "print(\"\\n\") # ASCII linefeed (LF)\n",
    "print(\"\\N{GREEK CAPITAL LETTER DELTA}\") # Character named name in the Unicode database (Unicode only)\n",
    "print(\"\\r\") # Carriage Return (CR)\n",
    "print(\"\\t\") # Horizontal Tab (TAB)\n",
    "print(\"\\u07FF\") # Character with 16-bit hex value xxxx\n",
    "print(\"\\U0010FFFF\") # Character with 32-bit hex value xxxxxxxx\n",
    "print(\"\\v\") # ASCII vertical tab (VT)\n",
    "print(\"\\000\") # Character with octal value 000\n",
    "print(\"\\xff\") # Character with hex value hh\n",
    "\n",
    "line_formatter = \"{}\\n{}\"\n",
    "quote_formatter = \"\\\"{}\\\"\"\n",
    "print(line_formatter.format(\"one line\", \"second line\"))\n",
    "print(\"He said: \", quote_formatter.format(\"What are you doing?!\"))"
   ]
  },
  {
   "cell_type": "code",
   "execution_count": null,
   "id": "7d3471c2-777e-423d-9d57-8a41853eca0a",
   "metadata": {},
   "outputs": [],
   "source": []
  }
 ],
 "metadata": {
  "kernelspec": {
   "display_name": "Python 3 (ipykernel)",
   "language": "python",
   "name": "python3"
  },
  "language_info": {
   "codemirror_mode": {
    "name": "ipython",
    "version": 3
   },
   "file_extension": ".py",
   "mimetype": "text/x-python",
   "name": "python",
   "nbconvert_exporter": "python",
   "pygments_lexer": "ipython3",
   "version": "3.12.3"
  }
 },
 "nbformat": 4,
 "nbformat_minor": 5
}
